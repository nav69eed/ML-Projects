{
 "cells": [
  {
   "cell_type": "markdown",
   "id": "23db8c12",
   "metadata": {},
   "source": [
    "# **IMPORTING LIBERARIES**"
   ]
  },
  {
   "cell_type": "code",
   "execution_count": 36,
   "id": "78e08981",
   "metadata": {},
   "outputs": [],
   "source": [
    "import pandas as pd\n",
    "import matplotlib.pyplot as plt\n",
    "from sklearn.metrics.pairwise import cosine_similarity\n",
    "import seaborn as sns\n",
    "\n",
    "# For cleaner plots\n",
    "sns.set(style='whitegrid')"
   ]
  },
  {
   "cell_type": "markdown",
   "id": "46a28be2",
   "metadata": {},
   "source": [
    "# **Data Loading**"
   ]
  },
  {
   "cell_type": "code",
   "execution_count": 4,
   "id": "0b0e80f3",
   "metadata": {},
   "outputs": [
    {
     "data": {
      "text/html": [
       "<div>\n",
       "<style scoped>\n",
       "    .dataframe tbody tr th:only-of-type {\n",
       "        vertical-align: middle;\n",
       "    }\n",
       "\n",
       "    .dataframe tbody tr th {\n",
       "        vertical-align: top;\n",
       "    }\n",
       "\n",
       "    .dataframe thead th {\n",
       "        text-align: right;\n",
       "    }\n",
       "</style>\n",
       "<table border=\"1\" class=\"dataframe\">\n",
       "  <thead>\n",
       "    <tr style=\"text-align: right;\">\n",
       "      <th></th>\n",
       "      <th>UserID</th>\n",
       "      <th>MovieID</th>\n",
       "      <th>Rating</th>\n",
       "      <th>Timestamp</th>\n",
       "    </tr>\n",
       "  </thead>\n",
       "  <tbody>\n",
       "    <tr>\n",
       "      <th>0</th>\n",
       "      <td>1</td>\n",
       "      <td>1193</td>\n",
       "      <td>5</td>\n",
       "      <td>978300760</td>\n",
       "    </tr>\n",
       "    <tr>\n",
       "      <th>1</th>\n",
       "      <td>1</td>\n",
       "      <td>661</td>\n",
       "      <td>3</td>\n",
       "      <td>978302109</td>\n",
       "    </tr>\n",
       "    <tr>\n",
       "      <th>2</th>\n",
       "      <td>1</td>\n",
       "      <td>914</td>\n",
       "      <td>3</td>\n",
       "      <td>978301968</td>\n",
       "    </tr>\n",
       "    <tr>\n",
       "      <th>3</th>\n",
       "      <td>1</td>\n",
       "      <td>3408</td>\n",
       "      <td>4</td>\n",
       "      <td>978300275</td>\n",
       "    </tr>\n",
       "    <tr>\n",
       "      <th>4</th>\n",
       "      <td>1</td>\n",
       "      <td>2355</td>\n",
       "      <td>5</td>\n",
       "      <td>978824291</td>\n",
       "    </tr>\n",
       "  </tbody>\n",
       "</table>\n",
       "</div>"
      ],
      "text/plain": [
       "   UserID  MovieID  Rating  Timestamp\n",
       "0       1     1193       5  978300760\n",
       "1       1      661       3  978302109\n",
       "2       1      914       3  978301968\n",
       "3       1     3408       4  978300275\n",
       "4       1     2355       5  978824291"
      ]
     },
     "execution_count": 4,
     "metadata": {},
     "output_type": "execute_result"
    }
   ],
   "source": [
    "# Load ratings data\n",
    "ratings = pd.read_csv(\"Movies Dataset/ratings.dat\", sep=\"::\", engine='python',\n",
    "                      names=[\"UserID\", \"MovieID\", \"Rating\", \"Timestamp\"], encoding=\"latin1\")\n",
    "\n",
    "# Preview data\n",
    "ratings.head()\n"
   ]
  },
  {
   "cell_type": "code",
   "execution_count": 5,
   "id": "b07d034a",
   "metadata": {},
   "outputs": [
    {
     "data": {
      "text/html": [
       "<div>\n",
       "<style scoped>\n",
       "    .dataframe tbody tr th:only-of-type {\n",
       "        vertical-align: middle;\n",
       "    }\n",
       "\n",
       "    .dataframe tbody tr th {\n",
       "        vertical-align: top;\n",
       "    }\n",
       "\n",
       "    .dataframe thead th {\n",
       "        text-align: right;\n",
       "    }\n",
       "</style>\n",
       "<table border=\"1\" class=\"dataframe\">\n",
       "  <thead>\n",
       "    <tr style=\"text-align: right;\">\n",
       "      <th></th>\n",
       "      <th>UserID</th>\n",
       "      <th>Gender</th>\n",
       "      <th>Age</th>\n",
       "      <th>Occupation</th>\n",
       "      <th>Zip-code</th>\n",
       "    </tr>\n",
       "  </thead>\n",
       "  <tbody>\n",
       "    <tr>\n",
       "      <th>0</th>\n",
       "      <td>1</td>\n",
       "      <td>F</td>\n",
       "      <td>1</td>\n",
       "      <td>10</td>\n",
       "      <td>48067</td>\n",
       "    </tr>\n",
       "    <tr>\n",
       "      <th>1</th>\n",
       "      <td>2</td>\n",
       "      <td>M</td>\n",
       "      <td>56</td>\n",
       "      <td>16</td>\n",
       "      <td>70072</td>\n",
       "    </tr>\n",
       "    <tr>\n",
       "      <th>2</th>\n",
       "      <td>3</td>\n",
       "      <td>M</td>\n",
       "      <td>25</td>\n",
       "      <td>15</td>\n",
       "      <td>55117</td>\n",
       "    </tr>\n",
       "    <tr>\n",
       "      <th>3</th>\n",
       "      <td>4</td>\n",
       "      <td>M</td>\n",
       "      <td>45</td>\n",
       "      <td>7</td>\n",
       "      <td>02460</td>\n",
       "    </tr>\n",
       "    <tr>\n",
       "      <th>4</th>\n",
       "      <td>5</td>\n",
       "      <td>M</td>\n",
       "      <td>25</td>\n",
       "      <td>20</td>\n",
       "      <td>55455</td>\n",
       "    </tr>\n",
       "  </tbody>\n",
       "</table>\n",
       "</div>"
      ],
      "text/plain": [
       "   UserID Gender  Age  Occupation Zip-code\n",
       "0       1      F    1          10    48067\n",
       "1       2      M   56          16    70072\n",
       "2       3      M   25          15    55117\n",
       "3       4      M   45           7    02460\n",
       "4       5      M   25          20    55455"
      ]
     },
     "execution_count": 5,
     "metadata": {},
     "output_type": "execute_result"
    }
   ],
   "source": [
    "# Load users data\n",
    "users = pd.read_csv(\"Movies Dataset/users.dat\", sep=\"::\", engine='python',\n",
    "                    names=[\"UserID\", \"Gender\", \"Age\", \"Occupation\", \"Zip-code\"], encoding=\"latin1\")\n",
    "users.head()"
   ]
  },
  {
   "cell_type": "code",
   "execution_count": 6,
   "id": "0a332eb5",
   "metadata": {},
   "outputs": [
    {
     "data": {
      "text/html": [
       "<div>\n",
       "<style scoped>\n",
       "    .dataframe tbody tr th:only-of-type {\n",
       "        vertical-align: middle;\n",
       "    }\n",
       "\n",
       "    .dataframe tbody tr th {\n",
       "        vertical-align: top;\n",
       "    }\n",
       "\n",
       "    .dataframe thead th {\n",
       "        text-align: right;\n",
       "    }\n",
       "</style>\n",
       "<table border=\"1\" class=\"dataframe\">\n",
       "  <thead>\n",
       "    <tr style=\"text-align: right;\">\n",
       "      <th></th>\n",
       "      <th>MovieID</th>\n",
       "      <th>Title</th>\n",
       "      <th>Genres</th>\n",
       "    </tr>\n",
       "  </thead>\n",
       "  <tbody>\n",
       "    <tr>\n",
       "      <th>0</th>\n",
       "      <td>1</td>\n",
       "      <td>Toy Story (1995)</td>\n",
       "      <td>Animation|Children's|Comedy</td>\n",
       "    </tr>\n",
       "    <tr>\n",
       "      <th>1</th>\n",
       "      <td>2</td>\n",
       "      <td>Jumanji (1995)</td>\n",
       "      <td>Adventure|Children's|Fantasy</td>\n",
       "    </tr>\n",
       "    <tr>\n",
       "      <th>2</th>\n",
       "      <td>3</td>\n",
       "      <td>Grumpier Old Men (1995)</td>\n",
       "      <td>Comedy|Romance</td>\n",
       "    </tr>\n",
       "    <tr>\n",
       "      <th>3</th>\n",
       "      <td>4</td>\n",
       "      <td>Waiting to Exhale (1995)</td>\n",
       "      <td>Comedy|Drama</td>\n",
       "    </tr>\n",
       "    <tr>\n",
       "      <th>4</th>\n",
       "      <td>5</td>\n",
       "      <td>Father of the Bride Part II (1995)</td>\n",
       "      <td>Comedy</td>\n",
       "    </tr>\n",
       "  </tbody>\n",
       "</table>\n",
       "</div>"
      ],
      "text/plain": [
       "   MovieID                               Title                        Genres\n",
       "0        1                    Toy Story (1995)   Animation|Children's|Comedy\n",
       "1        2                      Jumanji (1995)  Adventure|Children's|Fantasy\n",
       "2        3             Grumpier Old Men (1995)                Comedy|Romance\n",
       "3        4            Waiting to Exhale (1995)                  Comedy|Drama\n",
       "4        5  Father of the Bride Part II (1995)                        Comedy"
      ]
     },
     "execution_count": 6,
     "metadata": {},
     "output_type": "execute_result"
    }
   ],
   "source": [
    "# Load movies data\n",
    "movies = pd.read_csv(\"Movies Dataset/movies.dat\", sep=\"::\", engine='python',\n",
    "                     names=[\"MovieID\", \"Title\", \"Genres\"], encoding=\"latin1\")\n",
    "\n",
    "movies.head()"
   ]
  },
  {
   "cell_type": "markdown",
   "id": "1c15d68b",
   "metadata": {},
   "source": [
    "## data visualization"
   ]
  },
  {
   "cell_type": "code",
   "execution_count": 13,
   "id": "a0effee5",
   "metadata": {},
   "outputs": [
    {
     "data": {
      "image/png": "[encoded data removed]",
      "text/plain": [
       "<Figure size 600x400 with 1 Axes>"
      ]
     },
     "metadata": {},
     "output_type": "display_data"
    }
   ],
   "source": [
    "plt.figure(figsize=(6,4))\n",
    "sns.countplot(data=ratings, x=\"Rating\", hue=\"Rating\" ,palette=\"viridis\" ,legend=False)\n",
    "plt.title(\"Distribution of Ratings\")\n",
    "plt.xlabel(\"Rating (1 to 5)\")\n",
    "plt.ylabel(\"Count\")\n",
    "plt.show()"
   ]
  },
  {
   "cell_type": "code",
   "execution_count": 14,
   "id": "9f509c2a",
   "metadata": {},
   "outputs": [
    {
     "data": {
      "image/png": "[encoded data removed]",
      "text/plain": [
       "<Figure size 800x400 with 1 Axes>"
      ]
     },
     "metadata": {},
     "output_type": "display_data"
    }
   ],
   "source": [
    "ratings_per_user = ratings.groupby(\"UserID\").size()\n",
    "\n",
    "plt.figure(figsize=(8,4))\n",
    "sns.histplot(ratings_per_user, bins=50, kde=False, color='salmon')\n",
    "plt.title(\"Number of Ratings per User\")\n",
    "plt.xlabel(\"Number of Ratings\")\n",
    "plt.ylabel(\"Number of Users\")\n",
    "plt.xlim(0, 500)\n",
    "plt.show()\n"
   ]
  },
  {
   "cell_type": "code",
   "execution_count": 17,
   "id": "18914e73",
   "metadata": {},
   "outputs": [
    {
     "data": {
      "image/png": "[encoded data removed]",
      "text/plain": [
       "<Figure size 800x400 with 1 Axes>"
      ]
     },
     "metadata": {},
     "output_type": "display_data"
    }
   ],
   "source": [
    "ratings_per_movie = ratings.groupby(\"MovieID\").size()\n",
    "\n",
    "plt.figure(figsize=(8,4))\n",
    "sns.histplot(ratings_per_movie, bins=50, kde=False, color='skyblue')\n",
    "plt.title(\"Number of Ratings per Movie\")\n",
    "plt.xlabel(\"Number of Ratings\")\n",
    "plt.ylabel(\"Number of Movies\")\n",
    "plt.xlim(0, 1000)\n",
    "plt.show()\n"
   ]
  },
  {
   "cell_type": "code",
   "execution_count": 18,
   "id": "d7de7616",
   "metadata": {},
   "outputs": [
    {
     "data": {
      "image/png": "[encoded data removed]",
      "text/plain": [
       "<Figure size 1000x500 with 1 Axes>"
      ]
     },
     "metadata": {},
     "output_type": "display_data"
    }
   ],
   "source": [
    "# First, explode genres\n",
    "movies_exploded = movies.copy()\n",
    "movies_exploded[\"Genres\"] = movies_exploded[\"Genres\"].str.split(\"|\")\n",
    "movies_exploded = movies_exploded.explode(\"Genres\")\n",
    "\n",
    "# Merge with ratings\n",
    "movie_ratings = pd.merge(ratings, movies_exploded, on=\"MovieID\")\n",
    "\n",
    "# Group by genre\n",
    "genre_ratings = movie_ratings.groupby(\"Genres\")[\"Rating\"].mean().sort_values()\n",
    "\n",
    "plt.figure(figsize=(10,5))\n",
    "genre_ratings.plot(kind='barh', color='purple')\n",
    "plt.title(\"Average Rating by Genre\")\n",
    "plt.xlabel(\"Average Rating\")\n",
    "plt.ylabel(\"Genre\")\n",
    "plt.show()\n"
   ]
  },
  {
   "cell_type": "code",
   "execution_count": 37,
   "id": "222d86ca",
   "metadata": {},
   "outputs": [
    {
     "data": {
      "image/png": "[encoded data removed]",
      "text/plain": [
       "<Figure size 800x400 with 1 Axes>"
      ]
     },
     "metadata": {},
     "output_type": "display_data"
    }
   ],
   "source": [
    "# Merge users and ratings\n",
    "user_ratings = pd.merge(ratings, users, on=\"UserID\")\n",
    "\n",
    "age_rating = user_ratings.groupby(\"Age\")[\"Rating\"].mean()\n",
    "\n",
    "plt.figure(figsize=(8,4))\n",
    "sns.barplot(x=age_rating.index, y=age_rating.values, hue=age_rating.values, legend=False , palette=\"viridis\")\n",
    "plt.title(\"Average Rating by Age Group\")\n",
    "plt.xlabel(\"Age Code\")\n",
    "plt.ylabel(\"Average Rating\")\n",
    "plt.show()"
   ]
  },
  {
   "cell_type": "markdown",
   "id": "e6d71098",
   "metadata": {},
   "source": [
    "# Create the User-Item Rating Matrix"
   ]
  },
  {
   "cell_type": "code",
   "execution_count": 22,
   "id": "eacf6d83",
   "metadata": {},
   "outputs": [],
   "source": [
    "# Create the user-item rating matrix\n",
    "user_item_matrix = ratings.pivot_table(index='UserID', columns='MovieID', values='Rating')\n",
    "\n",
    "# Fill missing values with 0 for cosine similarity\n",
    "user_item_filled = user_item_matrix.fillna(0)\n"
   ]
  },
  {
   "cell_type": "markdown",
   "id": "bc878de1",
   "metadata": {},
   "source": [
    "## Compute User Similarity"
   ]
  },
  {
   "cell_type": "code",
   "execution_count": null,
   "id": "0cd06445",
   "metadata": {},
   "outputs": [],
   "source": [
    "# Compute cosine similarity between users\n",
    "user_similarity = cosine_similarity(user_item_filled)\n",
    "\n",
    "# Wrap it in a DataFrame for easier indexing\n",
    "user_similarity_df = pd.DataFrame(user_similarity, \n",
    "                                   index=user_item_matrix.index, \n",
    "                                   columns=user_item_matrix.index)"
   ]
  },
  {
   "cell_type": "markdown",
   "id": "580b0408",
   "metadata": {},
   "source": [
    "# Recommend Movies for a Target User Already Present User"
   ]
  },
  {
   "cell_type": "code",
   "execution_count": 26,
   "id": "a53f4ee7",
   "metadata": {},
   "outputs": [],
   "source": [
    "def recommend_movies(target_user, user_item_matrix, similarity_df, movies_df, k=5):\n",
    "    # Step 1: Get similarity scores\n",
    "    sim_scores = similarity_df.loc[target_user].drop(index=target_user)\n",
    "\n",
    "    # Step 2: Find top similar users\n",
    "    top_users = sim_scores.sort_values(ascending=False).head(k).index\n",
    "\n",
    "    # Step 3: Get their ratings\n",
    "    neighbor_ratings = user_item_matrix.loc[top_users]\n",
    "\n",
    "    # Step 4: Average their ratings (weighted or unweighted)\n",
    "    avg_ratings = neighbor_ratings.mean(axis=0)\n",
    "\n",
    "    # Step 5: Drop movies the target user already rated\n",
    "    seen_movies = user_item_matrix.loc[target_user]\n",
    "    unseen_movies = avg_ratings[seen_movies.isna()]\n",
    "\n",
    "    # Step 6: Sort unseen movies by predicted rating\n",
    "    top_recs = unseen_movies.sort_values(ascending=False).head(10)\n",
    "\n",
    "    # Step 7: Get titles\n",
    "    recommended_titles = movies_df[movies_df[\"MovieID\"].isin(top_recs.index)][[\"MovieID\", \"Title\"]]\n",
    "    recommended_titles[\"PredictedRating\"] = recommended_titles[\"MovieID\"].map(top_recs)\n",
    "\n",
    "    return recommended_titles.sort_values(\"PredictedRating\", ascending=False)\n"
   ]
  },
  {
   "cell_type": "markdown",
   "id": "b60a81ba",
   "metadata": {},
   "source": [
    "## Recommend for User 10"
   ]
  },
  {
   "cell_type": "code",
   "execution_count": 28,
   "id": "7198e5b7",
   "metadata": {},
   "outputs": [
    {
     "name": "stdout",
     "output_type": "stream",
     "text": [
      "      MovieID                                 Title  PredictedRating\n",
      "69         70            From Dusk Till Dawn (1996)              5.0\n",
      "1228     1248                  Touch of Evil (1958)              5.0\n",
      "1230     1250  Bridge on the River Kwai, The (1957)              5.0\n",
      "1249     1269           Arsenic and Old Lace (1944)              5.0\n",
      "1264     1284                 Big Sleep, The (1946)              5.0\n",
      "1366     1387                           Jaws (1975)              5.0\n",
      "1890     1959                  Out of Africa (1985)              5.0\n",
      "3090     3159                  Fantasia 2000 (1999)              5.0\n",
      "3198     3267                   Mariachi, El (1992)              5.0\n",
      "3412     3481                  High Fidelity (2000)              5.0\n"
     ]
    }
   ],
   "source": [
    "recommendations = recommend_movies(50, user_item_matrix, user_similarity_df, movies)\n",
    "print(recommendations)"
   ]
  },
  {
   "cell_type": "markdown",
   "id": "ed6aacb6",
   "metadata": {},
   "source": [
    "# Predictiuon for New User (He/She will Enter 3 Movie liked)"
   ]
  },
  {
   "cell_type": "code",
   "execution_count": 29,
   "id": "8a344510",
   "metadata": {},
   "outputs": [],
   "source": [
    "# Example 3 movies user likes\n",
    "favorite_titles = [\"Toy Story (1995)\", \"Jumanji (1995)\", \"Grumpier Old Men (1995)\"]"
   ]
  },
  {
   "cell_type": "code",
   "execution_count": 30,
   "id": "979ddf4e",
   "metadata": {},
   "outputs": [
    {
     "name": "stdout",
     "output_type": "stream",
     "text": [
      "Liked genres: {'Animation', 'Adventure', 'Fantasy', \"Children's\", 'Comedy', 'Romance'}\n"
     ]
    }
   ],
   "source": [
    "# Filter from movies dataset\n",
    "favorite_movies = movies[movies[\"Title\"].isin(favorite_titles)]\n",
    "\n",
    "# Explode genres for easier matching\n",
    "favorite_genres = favorite_movies[\"Genres\"].str.split(\"|\").explode()\n",
    "\n",
    "# Get unique liked genres\n",
    "liked_genres = set(favorite_genres)\n",
    "\n",
    "print(\"Liked genres:\", liked_genres)\n"
   ]
  },
  {
   "cell_type": "code",
   "execution_count": 31,
   "id": "7164deac",
   "metadata": {},
   "outputs": [],
   "source": [
    "def genre_overlap_score(genres_str, liked_genres):\n",
    "    genres = set(genres_str.split(\"|\"))\n",
    "    return len(genres & liked_genres)\n",
    "\n",
    "# Create score column\n",
    "movies[\"GenreScore\"] = movies[\"Genres\"].apply(lambda g: genre_overlap_score(g, liked_genres))\n"
   ]
  },
  {
   "cell_type": "code",
   "execution_count": 32,
   "id": "d4330d0c",
   "metadata": {},
   "outputs": [],
   "source": [
    "# Get popularity and rating info\n",
    "movie_stats = ratings.groupby(\"MovieID\").agg({\n",
    "    \"Rating\": [\"mean\", \"count\"]\n",
    "})\n",
    "movie_stats.columns = [\"AvgRating\", \"RatingCount\"]\n",
    "movie_stats.reset_index(inplace=True)\n",
    "\n",
    "# Merge with movies\n",
    "movies_scored = pd.merge(movies, movie_stats, on=\"MovieID\", how=\"left\")\n"
   ]
  },
  {
   "cell_type": "code",
   "execution_count": 35,
   "id": "66289290",
   "metadata": {},
   "outputs": [
    {
     "name": "stderr",
     "output_type": "stream",
     "text": [
      "C:\\Users\\bscs2213\\AppData\\Local\\Temp\\ipykernel_17952\\1156067771.py:5: SettingWithCopyWarning: \n",
      "A value is trying to be set on a copy of a slice from a DataFrame.\n",
      "Try using .loc[row_indexer,col_indexer] = value instead\n",
      "\n",
      "See the caveats in the documentation: https://pandas.pydata.org/pandas-docs/stable/user_guide/indexing.html#returning-a-view-versus-a-copy\n",
      "  recommend_candidates[\"FinalScore\"] = (\n"
     ]
    },
    {
     "data": {
      "text/html": [
       "<div>\n",
       "<style scoped>\n",
       "    .dataframe tbody tr th:only-of-type {\n",
       "        vertical-align: middle;\n",
       "    }\n",
       "\n",
       "    .dataframe tbody tr th {\n",
       "        vertical-align: top;\n",
       "    }\n",
       "\n",
       "    .dataframe thead th {\n",
       "        text-align: right;\n",
       "    }\n",
       "</style>\n",
       "<table border=\"1\" class=\"dataframe\">\n",
       "  <thead>\n",
       "    <tr style=\"text-align: right;\">\n",
       "      <th></th>\n",
       "      <th>Title</th>\n",
       "      <th>Genres</th>\n",
       "      <th>AvgRating</th>\n",
       "      <th>RatingCount</th>\n",
       "      <th>FinalScore</th>\n",
       "    </tr>\n",
       "  </thead>\n",
       "  <tbody>\n",
       "    <tr>\n",
       "      <th>1058</th>\n",
       "      <td>Willy Wonka and the Chocolate Factory (1971)</td>\n",
       "      <td>Adventure|Children's|Comedy|Fantasy</td>\n",
       "      <td>3.861386</td>\n",
       "      <td>1313.0</td>\n",
       "      <td>11.174386</td>\n",
       "    </tr>\n",
       "    <tr>\n",
       "      <th>1179</th>\n",
       "      <td>Princess Bride, The (1987)</td>\n",
       "      <td>Action|Adventure|Comedy|Romance</td>\n",
       "      <td>4.303710</td>\n",
       "      <td>2318.0</td>\n",
       "      <td>11.121710</td>\n",
       "    </tr>\n",
       "    <tr>\n",
       "      <th>2012</th>\n",
       "      <td>Little Mermaid, The (1989)</td>\n",
       "      <td>Animation|Children's|Comedy|Musical|Romance</td>\n",
       "      <td>3.756522</td>\n",
       "      <td>1035.0</td>\n",
       "      <td>10.791522</td>\n",
       "    </tr>\n",
       "    <tr>\n",
       "      <th>667</th>\n",
       "      <td>Space Jam (1996)</td>\n",
       "      <td>Adventure|Animation|Children's|Comedy|Fantasy</td>\n",
       "      <td>2.619893</td>\n",
       "      <td>563.0</td>\n",
       "      <td>10.682893</td>\n",
       "    </tr>\n",
       "    <tr>\n",
       "      <th>2011</th>\n",
       "      <td>Lady and the Tramp (1955)</td>\n",
       "      <td>Animation|Children's|Comedy|Musical|Romance</td>\n",
       "      <td>3.804398</td>\n",
       "      <td>864.0</td>\n",
       "      <td>10.668398</td>\n",
       "    </tr>\n",
       "    <tr>\n",
       "      <th>257</th>\n",
       "      <td>Star Wars: Episode IV - A New Hope (1977)</td>\n",
       "      <td>Action|Adventure|Fantasy|Sci-Fi</td>\n",
       "      <td>4.453694</td>\n",
       "      <td>2991.0</td>\n",
       "      <td>10.444694</td>\n",
       "    </tr>\n",
       "    <tr>\n",
       "      <th>3045</th>\n",
       "      <td>Toy Story 2 (1999)</td>\n",
       "      <td>Animation|Children's|Comedy</td>\n",
       "      <td>4.218927</td>\n",
       "      <td>1585.0</td>\n",
       "      <td>10.303927</td>\n",
       "    </tr>\n",
       "    <tr>\n",
       "      <th>255</th>\n",
       "      <td>Kid in King Arthur's Court, A (1995)</td>\n",
       "      <td>Adventure|Children's|Comedy|Fantasy|Romance</td>\n",
       "      <td>2.423611</td>\n",
       "      <td>144.0</td>\n",
       "      <td>10.067611</td>\n",
       "    </tr>\n",
       "    <tr>\n",
       "      <th>2286</th>\n",
       "      <td>Bug's Life, A (1998)</td>\n",
       "      <td>Animation|Children's|Comedy</td>\n",
       "      <td>3.854375</td>\n",
       "      <td>1703.0</td>\n",
       "      <td>10.057375</td>\n",
       "    </tr>\n",
       "    <tr>\n",
       "      <th>1985</th>\n",
       "      <td>Honey, I Shrunk the Kids (1989)</td>\n",
       "      <td>Adventure|Children's|Comedy|Fantasy|Sci-Fi</td>\n",
       "      <td>2.933014</td>\n",
       "      <td>1045.0</td>\n",
       "      <td>9.978014</td>\n",
       "    </tr>\n",
       "  </tbody>\n",
       "</table>\n",
       "</div>"
      ],
      "text/plain": [
       "                                             Title  \\\n",
       "1058  Willy Wonka and the Chocolate Factory (1971)   \n",
       "1179                    Princess Bride, The (1987)   \n",
       "2012                    Little Mermaid, The (1989)   \n",
       "667                               Space Jam (1996)   \n",
       "2011                     Lady and the Tramp (1955)   \n",
       "257      Star Wars: Episode IV - A New Hope (1977)   \n",
       "3045                            Toy Story 2 (1999)   \n",
       "255           Kid in King Arthur's Court, A (1995)   \n",
       "2286                          Bug's Life, A (1998)   \n",
       "1985               Honey, I Shrunk the Kids (1989)   \n",
       "\n",
       "                                             Genres  AvgRating  RatingCount  \\\n",
       "1058            Adventure|Children's|Comedy|Fantasy   3.861386       1313.0   \n",
       "1179                Action|Adventure|Comedy|Romance   4.303710       2318.0   \n",
       "2012    Animation|Children's|Comedy|Musical|Romance   3.756522       1035.0   \n",
       "667   Adventure|Animation|Children's|Comedy|Fantasy   2.619893        563.0   \n",
       "2011    Animation|Children's|Comedy|Musical|Romance   3.804398        864.0   \n",
       "257                 Action|Adventure|Fantasy|Sci-Fi   4.453694       2991.0   \n",
       "3045                    Animation|Children's|Comedy   4.218927       1585.0   \n",
       "255     Adventure|Children's|Comedy|Fantasy|Romance   2.423611        144.0   \n",
       "2286                    Animation|Children's|Comedy   3.854375       1703.0   \n",
       "1985     Adventure|Children's|Comedy|Fantasy|Sci-Fi   2.933014       1045.0   \n",
       "\n",
       "      FinalScore  \n",
       "1058   11.174386  \n",
       "1179   11.121710  \n",
       "2012   10.791522  \n",
       "667    10.682893  \n",
       "2011   10.668398  \n",
       "257    10.444694  \n",
       "3045   10.303927  \n",
       "255    10.067611  \n",
       "2286   10.057375  \n",
       "1985    9.978014  "
      ]
     },
     "execution_count": 35,
     "metadata": {},
     "output_type": "execute_result"
    }
   ],
   "source": [
    "# Remove input movies\n",
    "recommend_candidates = movies_scored[~movies_scored[\"Title\"].isin(favorite_titles)]\n",
    "\n",
    "# Final score: weighted sum (you can tweak this)\n",
    "recommend_candidates[\"FinalScore\"] = (\n",
    "    recommend_candidates[\"GenreScore\"] * 1.5 +\n",
    "    recommend_candidates[\"AvgRating\"].fillna(0) * 1.0 +\n",
    "    (recommend_candidates[\"RatingCount\"].fillna(0) / 1000)\n",
    ")\n",
    "\n",
    "# Top 10 recommendations\n",
    "recommendations = recommend_candidates.sort_values(\"FinalScore\", ascending=False).head(10)\n",
    "\n",
    "recommendations[[\"Title\", \"Genres\", \"AvgRating\", \"RatingCount\", \"FinalScore\"]]\n"
   ]
  }
 ],
 "metadata": {
  "kernelspec": {
   "display_name": "Lang Venv",
   "language": "python",
   "name": "venv"
  },
  "language_info": {
   "codemirror_mode": {
    "name": "ipython",
    "version": 3
   },
   "file_extension": ".py",
   "mimetype": "text/x-python",
   "name": "python",
   "nbconvert_exporter": "python",
   "pygments_lexer": "ipython3",
   "version": "3.10.0"
  }
 },
 "nbformat": 4,
 "nbformat_minor": 5
}
